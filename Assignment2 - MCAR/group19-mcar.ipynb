{
 "cells": [
  {
   "cell_type": "code",
   "execution_count": 2,
   "metadata": {
    "execution": {
     "iopub.execute_input": "2024-09-21T14:30:54.054219Z",
     "iopub.status.busy": "2024-09-21T14:30:54.053705Z",
     "iopub.status.idle": "2024-09-21T14:30:54.060679Z",
     "shell.execute_reply": "2024-09-21T14:30:54.059111Z",
     "shell.execute_reply.started": "2024-09-21T14:30:54.054173Z"
    },
    "id": "Nank5uheiDUg",
    "trusted": true
   },
   "outputs": [],
   "source": [
    "#importing all the necessary libraries\n",
    "import numpy as np\n",
    "import pandas as pd\n",
    "from scipy.stats import chi2"
   ]
  },
  {
   "cell_type": "code",
   "execution_count": 5,
   "metadata": {
    "execution": {
     "iopub.execute_input": "2024-09-21T14:30:54.063521Z",
     "iopub.status.busy": "2024-09-21T14:30:54.063021Z",
     "iopub.status.idle": "2024-09-21T14:30:55.122820Z",
     "shell.execute_reply": "2024-09-21T14:30:55.121472Z",
     "shell.execute_reply.started": "2024-09-21T14:30:54.063458Z"
    },
    "id": "-UFF4020iS4L",
    "trusted": true
   },
   "outputs": [],
   "source": [
    "df = pd.read_csv('https://raw.githubusercontent.com/Monson2002/IT462-EDA-Group19/refs/heads/main/Assignment2%20-%20MCAR/athlete_events.csv')"
   ]
  },
  {
   "cell_type": "code",
   "execution_count": 6,
   "metadata": {
    "colab": {
     "base_uri": "https://localhost:8080/",
     "height": 206
    },
    "execution": {
     "iopub.execute_input": "2024-09-21T14:30:55.124659Z",
     "iopub.status.busy": "2024-09-21T14:30:55.124279Z",
     "iopub.status.idle": "2024-09-21T14:30:55.160895Z",
     "shell.execute_reply": "2024-09-21T14:30:55.159320Z",
     "shell.execute_reply.started": "2024-09-21T14:30:55.124619Z"
    },
    "id": "sclzc7L8lR65",
    "outputId": "90d1ecd2-4daa-4571-8f1b-103e53bdbbba",
    "trusted": true
   },
   "outputs": [
    {
     "data": {
      "text/html": [
       "<div>\n",
       "<style scoped>\n",
       "    .dataframe tbody tr th:only-of-type {\n",
       "        vertical-align: middle;\n",
       "    }\n",
       "\n",
       "    .dataframe tbody tr th {\n",
       "        vertical-align: top;\n",
       "    }\n",
       "\n",
       "    .dataframe thead th {\n",
       "        text-align: right;\n",
       "    }\n",
       "</style>\n",
       "<table border=\"1\" class=\"dataframe\">\n",
       "  <thead>\n",
       "    <tr style=\"text-align: right;\">\n",
       "      <th></th>\n",
       "      <th>ID</th>\n",
       "      <th>Name</th>\n",
       "      <th>Sex</th>\n",
       "      <th>Age</th>\n",
       "      <th>Height</th>\n",
       "      <th>Weight</th>\n",
       "      <th>Team</th>\n",
       "      <th>NOC</th>\n",
       "      <th>Games</th>\n",
       "      <th>Year</th>\n",
       "      <th>Season</th>\n",
       "      <th>City</th>\n",
       "      <th>Sport</th>\n",
       "      <th>Event</th>\n",
       "      <th>Medal</th>\n",
       "    </tr>\n",
       "  </thead>\n",
       "  <tbody>\n",
       "    <tr>\n",
       "      <th>0</th>\n",
       "      <td>1</td>\n",
       "      <td>A Dijiang</td>\n",
       "      <td>M</td>\n",
       "      <td>24.0</td>\n",
       "      <td>180.0</td>\n",
       "      <td>80.0</td>\n",
       "      <td>China</td>\n",
       "      <td>CHN</td>\n",
       "      <td>1992 Summer</td>\n",
       "      <td>1992</td>\n",
       "      <td>Summer</td>\n",
       "      <td>Barcelona</td>\n",
       "      <td>Basketball</td>\n",
       "      <td>Basketball Men's Basketball</td>\n",
       "      <td>NaN</td>\n",
       "    </tr>\n",
       "    <tr>\n",
       "      <th>1</th>\n",
       "      <td>2</td>\n",
       "      <td>A Lamusi</td>\n",
       "      <td>M</td>\n",
       "      <td>23.0</td>\n",
       "      <td>170.0</td>\n",
       "      <td>60.0</td>\n",
       "      <td>China</td>\n",
       "      <td>CHN</td>\n",
       "      <td>2012 Summer</td>\n",
       "      <td>2012</td>\n",
       "      <td>Summer</td>\n",
       "      <td>London</td>\n",
       "      <td>Judo</td>\n",
       "      <td>Judo Men's Extra-Lightweight</td>\n",
       "      <td>NaN</td>\n",
       "    </tr>\n",
       "    <tr>\n",
       "      <th>2</th>\n",
       "      <td>3</td>\n",
       "      <td>Gunnar Nielsen Aaby</td>\n",
       "      <td>M</td>\n",
       "      <td>24.0</td>\n",
       "      <td>NaN</td>\n",
       "      <td>NaN</td>\n",
       "      <td>Denmark</td>\n",
       "      <td>DEN</td>\n",
       "      <td>1920 Summer</td>\n",
       "      <td>1920</td>\n",
       "      <td>Summer</td>\n",
       "      <td>Antwerpen</td>\n",
       "      <td>Football</td>\n",
       "      <td>Football Men's Football</td>\n",
       "      <td>NaN</td>\n",
       "    </tr>\n",
       "    <tr>\n",
       "      <th>3</th>\n",
       "      <td>4</td>\n",
       "      <td>Edgar Lindenau Aabye</td>\n",
       "      <td>M</td>\n",
       "      <td>34.0</td>\n",
       "      <td>NaN</td>\n",
       "      <td>NaN</td>\n",
       "      <td>Denmark/Sweden</td>\n",
       "      <td>DEN</td>\n",
       "      <td>1900 Summer</td>\n",
       "      <td>1900</td>\n",
       "      <td>Summer</td>\n",
       "      <td>Paris</td>\n",
       "      <td>Tug-Of-War</td>\n",
       "      <td>Tug-Of-War Men's Tug-Of-War</td>\n",
       "      <td>Gold</td>\n",
       "    </tr>\n",
       "    <tr>\n",
       "      <th>4</th>\n",
       "      <td>5</td>\n",
       "      <td>Christine Jacoba Aaftink</td>\n",
       "      <td>F</td>\n",
       "      <td>21.0</td>\n",
       "      <td>185.0</td>\n",
       "      <td>82.0</td>\n",
       "      <td>Netherlands</td>\n",
       "      <td>NED</td>\n",
       "      <td>1988 Winter</td>\n",
       "      <td>1988</td>\n",
       "      <td>Winter</td>\n",
       "      <td>Calgary</td>\n",
       "      <td>Speed Skating</td>\n",
       "      <td>Speed Skating Women's 500 metres</td>\n",
       "      <td>NaN</td>\n",
       "    </tr>\n",
       "  </tbody>\n",
       "</table>\n",
       "</div>"
      ],
      "text/plain": [
       "   ID                      Name Sex   Age  Height  Weight            Team  \\\n",
       "0   1                 A Dijiang   M  24.0   180.0    80.0           China   \n",
       "1   2                  A Lamusi   M  23.0   170.0    60.0           China   \n",
       "2   3       Gunnar Nielsen Aaby   M  24.0     NaN     NaN         Denmark   \n",
       "3   4      Edgar Lindenau Aabye   M  34.0     NaN     NaN  Denmark/Sweden   \n",
       "4   5  Christine Jacoba Aaftink   F  21.0   185.0    82.0     Netherlands   \n",
       "\n",
       "   NOC        Games  Year  Season       City          Sport  \\\n",
       "0  CHN  1992 Summer  1992  Summer  Barcelona     Basketball   \n",
       "1  CHN  2012 Summer  2012  Summer     London           Judo   \n",
       "2  DEN  1920 Summer  1920  Summer  Antwerpen       Football   \n",
       "3  DEN  1900 Summer  1900  Summer      Paris     Tug-Of-War   \n",
       "4  NED  1988 Winter  1988  Winter    Calgary  Speed Skating   \n",
       "\n",
       "                              Event Medal  \n",
       "0       Basketball Men's Basketball   NaN  \n",
       "1      Judo Men's Extra-Lightweight   NaN  \n",
       "2           Football Men's Football   NaN  \n",
       "3       Tug-Of-War Men's Tug-Of-War  Gold  \n",
       "4  Speed Skating Women's 500 metres   NaN  "
      ]
     },
     "execution_count": 6,
     "metadata": {},
     "output_type": "execute_result"
    }
   ],
   "source": [
    "# first few columns of dataset\n",
    "df.head()"
   ]
  },
  {
   "cell_type": "code",
   "execution_count": 8,
   "metadata": {
    "execution": {
     "iopub.execute_input": "2024-09-21T14:30:55.163821Z",
     "iopub.status.busy": "2024-09-21T14:30:55.163416Z",
     "iopub.status.idle": "2024-09-21T14:30:55.176475Z",
     "shell.execute_reply": "2024-09-21T14:30:55.175077Z",
     "shell.execute_reply.started": "2024-09-21T14:30:55.163779Z"
    },
    "id": "czeN2DivmBYO",
    "trusted": true
   },
   "outputs": [],
   "source": [
    "def little_mcar_test(data):\n",
    "    \"\"\"\n",
    "    Perform Little's MCAR test on a pandas dataframe.\n",
    "\n",
    "    Parameters:\n",
    "    data (DataFrame): The dataset to test for MCAR (missing completely at random).\n",
    "\n",
    "    Returns:\n",
    "    dict: A dictionary containing the chi-square statistic, degrees of freedom, and p-value.\n",
    "    \"\"\"\n",
    "\n",
    "    # Get the number of rows in the data\n",
    "    n = len(data)\n",
    "\n",
    "    # List to hold binary masks indicating missing values for each column\n",
    "    groups = []\n",
    "\n",
    "    # Loop through each column in the dataframe\n",
    "    for col in data.columns:\n",
    "        # Create a boolean mask where True indicates a missing value\n",
    "        mask = data[col].isnull()\n",
    "\n",
    "        # If there are any missing values in this column\n",
    "        if mask.any():\n",
    "            # Convert the mask to an integer (1 for missing, 0 for not missing)\n",
    "            # and reshape it to make sure it's a column vector\n",
    "            groups.append(mask.astype(int).values.reshape(-1, 1))\n",
    "\n",
    "    # If no missing data was found in the dataset, raise an error\n",
    "    if len(groups) == 0:\n",
    "        raise ValueError(\"No missing data found.\")\n",
    "\n",
    "    # Concatenate all the binary masks column-wise to create a matrix\n",
    "    # This matrix will indicate which values are missing across columns\n",
    "    r = np.concatenate(groups, axis=1)\n",
    "\n",
    "    # Compute the \"group_stats\" matrix, which is essentially the dot product of\n",
    "    # the transpose of r with r itself. This captures how often missing values\n",
    "    # coincide across columns.\n",
    "    group_stats = r.T @ r\n",
    "\n",
    "    # The number of groups (columns with missing data)\n",
    "    m = len(groups)\n",
    "\n",
    "    # Degrees of freedom is computed as (n - 1) * m, where n is the number of rows\n",
    "    # and m is the number of columns with missing values\n",
    "    df = (n - 1) * m\n",
    "\n",
    "    # The chi-square statistic is the trace of the group_stats matrix\n",
    "    # (i.e., the sum of the diagonal elements)\n",
    "    chi2_stat = group_stats.trace()\n",
    "\n",
    "    # Compute the p-value using the chi-square survival function (sf), which gives\n",
    "    # the probability of observing a chi-square statistic at least as extreme as the\n",
    "    # one calculated, under the null hypothesis that data is MCAR\n",
    "    p_value = chi2.sf(chi2_stat, df)\n",
    "\n",
    "    # Return the results as a dictionary\n",
    "    return {\"chi2_stat\": chi2_stat, \"degrees_of_freedom\": df, \"p_value\": p_value}\n"
   ]
  },
  {
   "cell_type": "code",
   "execution_count": 9,
   "metadata": {
    "execution": {
     "iopub.execute_input": "2024-09-21T14:30:55.178353Z",
     "iopub.status.busy": "2024-09-21T14:30:55.177883Z",
     "iopub.status.idle": "2024-09-21T14:30:55.481983Z",
     "shell.execute_reply": "2024-09-21T14:30:55.480613Z",
     "shell.execute_reply.started": "2024-09-21T14:30:55.178311Z"
    },
    "id": "3WSYUr0xmHxr",
    "trusted": true
   },
   "outputs": [],
   "source": [
    "result = little_mcar_test(df)"
   ]
  },
  {
   "cell_type": "markdown",
   "metadata": {
    "id": "3tNmd2dUsM9F"
   },
   "source": [
    "Printing the results using formatted strings"
   ]
  },
  {
   "cell_type": "code",
   "execution_count": 10,
   "metadata": {
    "colab": {
     "base_uri": "https://localhost:8080/"
    },
    "execution": {
     "iopub.execute_input": "2024-09-21T14:30:55.484405Z",
     "iopub.status.busy": "2024-09-21T14:30:55.483964Z",
     "iopub.status.idle": "2024-09-21T14:30:55.491609Z",
     "shell.execute_reply": "2024-09-21T14:30:55.490115Z",
     "shell.execute_reply.started": "2024-09-21T14:30:55.484353Z"
    },
    "id": "r3WQBQQirrGI",
    "outputId": "b6789f36-1f82-451a-b8b1-5c6404915c13",
    "trusted": true
   },
   "outputs": [
    {
     "name": "stdout",
     "output_type": "stream",
     "text": [
      "Chi-square statistic: 363853\n",
      "Degrees of freedom: 1084460\n",
      "P-value: 1.0\n"
     ]
    }
   ],
   "source": [
    "print(f\"Chi-square statistic: {result['chi2_stat']}\")\n",
    "print(f\"Degrees of freedom: {result['degrees_of_freedom']}\")\n",
    "print(f\"P-value: {result['p_value']}\")"
   ]
  },
  {
   "cell_type": "markdown",
   "metadata": {
    "id": "CrfbhoiLtDgI"
   },
   "source": [
    "**Interpretation:**\n",
    "Chi-square statistic: The chi-square statistic measures how much the pattern of missing data deviates from what would be expected if the data were missing completely at random. A higher value indicates greater deviation.\n",
    "\n",
    "**Degrees of freedom:** The degrees of freedom (1,084,460 in this case) reflect the complexity of the test, based on the number of variables and the size of the dataset.\n",
    "\n",
    "**P-value:** The p-value is a key part of interpreting the test. In this case, the p-value is 1.0, which is extremely high. A p-value near 1 indicates strong evidence in favor of the null hypothesis, which in this case is that the data is missing completely at random (MCAR).\n",
    "\n",
    "**Conclusion:**\n",
    "\n",
    "*   Since the p-value is 1.0, this suggests that the missing data is very likely to be missing completely at random (MCAR). In other words, the pattern of missingness does not appear to be related to any other variables in the dataset\n",
    "*   The chi-square statistic is high, but given the large degrees of freedom, this is not surprising. The test essentially compares observed vs. expected patterns of missingness, and the p-value indicates that any deviations from MCAR are statistically insignificant.\n",
    "\n"
   ]
  }
 ],
 "metadata": {
  "colab": {
   "provenance": []
  },
  "kaggle": {
   "accelerator": "none",
   "dataSources": [
    {
     "datasetId": 5743874,
     "sourceId": 9449962,
     "sourceType": "datasetVersion"
    }
   ],
   "dockerImageVersionId": 30761,
   "isGpuEnabled": false,
   "isInternetEnabled": true,
   "language": "python",
   "sourceType": "notebook"
  },
  "kernelspec": {
   "display_name": "Python 3",
   "language": "python",
   "name": "python3"
  },
  "language_info": {
   "codemirror_mode": {
    "name": "ipython",
    "version": 3
   },
   "file_extension": ".py",
   "mimetype": "text/x-python",
   "name": "python",
   "nbconvert_exporter": "python",
   "pygments_lexer": "ipython3",
   "version": "3.12.7"
  }
 },
 "nbformat": 4,
 "nbformat_minor": 4
}
